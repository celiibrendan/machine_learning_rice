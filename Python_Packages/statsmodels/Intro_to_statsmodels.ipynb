{
 "cells": [
  {
   "cell_type": "code",
   "execution_count": 1,
   "metadata": {},
   "outputs": [],
   "source": [
    "%load_ext autoreload\n",
    "%autoreload 2\n",
    "\n",
    "from os import sys\n",
    "sys.path.append(\"/meshAfterParty/meshAfterParty/\")\n",
    "sys.path.append(\"/meshAfterParty/meshAfterParty/machine_learning/\")"
   ]
  },
  {
   "cell_type": "code",
   "execution_count": 2,
   "metadata": {},
   "outputs": [],
   "source": [
    "import sklearn_utils as sku\n",
    "import pandas_ml as pml"
   ]
  },
  {
   "cell_type": "markdown",
   "metadata": {},
   "source": [
    "# Loading the Data"
   ]
  },
  {
   "cell_type": "code",
   "execution_count": 3,
   "metadata": {},
   "outputs": [],
   "source": [
    "#loading the dataset (alreaady drops nan falues)\n",
    "target_name = \"MEDV\"\n",
    "df = sku.load_boston()"
   ]
  },
  {
   "cell_type": "code",
   "execution_count": 4,
   "metadata": {},
   "outputs": [],
   "source": [
    "normalize_data = True\n",
    "center_data = True\n",
    "\n",
    "df = pml.preprocess_df(df,\n",
    "                      center = center_data,\n",
    "                      normalize = normalize_data)"
   ]
  },
  {
   "cell_type": "code",
   "execution_count": null,
   "metadata": {},
   "outputs": [],
   "source": []
  },
  {
   "cell_type": "markdown",
   "metadata": {},
   "source": [
    "# Getting the statistics using stats models"
   ]
  },
  {
   "cell_type": "code",
   "execution_count": 5,
   "metadata": {},
   "outputs": [
    {
     "name": "stdout",
     "output_type": "stream",
     "text": [
      "                                 OLS Regression Results                                \n",
      "=======================================================================================\n",
      "Dep. Variable:                   MEDV   R-squared (uncentered):                   0.741\n",
      "Model:                            OLS   Adj. R-squared (uncentered):              0.734\n",
      "Method:                 Least Squares   F-statistic:                              108.3\n",
      "Date:                Mon, 20 Sep 2021   Prob (F-statistic):                   3.46e-135\n",
      "Time:                        22:05:31   Log-Likelihood:                          427.37\n",
      "No. Observations:                 506   AIC:                                     -828.7\n",
      "Df Residuals:                     493   BIC:                                     -773.8\n",
      "Df Model:                          13                                                  \n",
      "Covariance Type:            nonrobust                                                  \n",
      "==============================================================================\n",
      "                 coef    std err          t      P>|t|      [0.025      0.975]\n",
      "------------------------------------------------------------------------------\n",
      "CRIM          -0.2136      0.065     -3.290      0.001      -0.341      -0.086\n",
      "ZN             0.1032      0.030      3.385      0.001       0.043       0.163\n",
      "INDUS          0.0125      0.037      0.335      0.738      -0.061       0.086\n",
      "CHAS           0.0597      0.019      3.122      0.002       0.022       0.097\n",
      "NOX           -0.1919      0.041     -4.656      0.000      -0.273      -0.111\n",
      "RM             0.4419      0.048      9.125      0.000       0.347       0.537\n",
      "AGE            0.0015      0.028      0.052      0.958      -0.054       0.057\n",
      "DIS           -0.3606      0.049     -7.406      0.000      -0.456      -0.265\n",
      "RAD            0.1564      0.034      4.618      0.000       0.090       0.223\n",
      "TAX           -0.1436      0.044     -3.283      0.001      -0.230      -0.058\n",
      "PTRATIO       -0.1990      0.027     -7.290      0.000      -0.253      -0.145\n",
      "B              0.0821      0.024      3.470      0.001       0.036       0.129\n",
      "LSTAT         -0.4226      0.041    -10.358      0.000      -0.503      -0.342\n",
      "==============================================================================\n",
      "Omnibus:                      178.041   Durbin-Watson:                   1.078\n",
      "Prob(Omnibus):                  0.000   Jarque-Bera (JB):              783.126\n",
      "Skew:                           1.521   Prob(JB):                    8.84e-171\n",
      "Kurtosis:                       8.281   Cond. No.                         9.28\n",
      "==============================================================================\n",
      "\n",
      "Warnings:\n",
      "[1] Standard Errors assume that the covariance matrix of the errors is correctly specified.\n"
     ]
    }
   ],
   "source": [
    "# linear regression\n",
    "\"\"\"\n",
    "https://stackoverflow.com/questions/27928275/find-p-value-significance-in-scikit-learn-linearregression\n",
    "\n",
    "\"\"\"\n",
    "\n",
    "import statsmodels.api as sm\n",
    "\n",
    "est = sm.OLS(df[target_name], df[[k for k in df.columns if k != target_name]])\n",
    "est2 = est.fit()\n",
    "print(est2.summary())"
   ]
  },
  {
   "cell_type": "markdown",
   "metadata": {},
   "source": [
    "# Checking that got the same values as the summary"
   ]
  },
  {
   "cell_type": "code",
   "execution_count": 7,
   "metadata": {},
   "outputs": [
    {
     "data": {
      "text/plain": [
       "CRIM       0.096679\n",
       "ZN         0.233225\n",
       "INDUS      0.251479\n",
       "CHAS       0.253994\n",
       "NOX        0.238431\n",
       "RM         0.134627\n",
       "AGE        0.289896\n",
       "DIS        0.191482\n",
       "RAD        0.378576\n",
       "TAX        0.321636\n",
       "PTRATIO    0.230313\n",
       "B          0.230205\n",
       "LSTAT      0.197049\n",
       "MEDV       0.204380\n",
       "dtype: float64"
      ]
     },
     "execution_count": 7,
     "metadata": {},
     "output_type": "execute_result"
    }
   ],
   "source": [
    "df.std()"
   ]
  },
  {
   "cell_type": "code",
   "execution_count": null,
   "metadata": {},
   "outputs": [],
   "source": []
  }
 ],
 "metadata": {
  "kernelspec": {
   "display_name": "Python 3",
   "language": "python",
   "name": "python3"
  },
  "language_info": {
   "codemirror_mode": {
    "name": "ipython",
    "version": 3
   },
   "file_extension": ".py",
   "mimetype": "text/x-python",
   "name": "python",
   "nbconvert_exporter": "python",
   "pygments_lexer": "ipython3",
   "version": "3.6.9"
  }
 },
 "nbformat": 4,
 "nbformat_minor": 4
}
